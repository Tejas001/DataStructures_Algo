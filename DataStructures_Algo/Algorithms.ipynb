{
 "cells": [
  {
   "attachments": {},
   "cell_type": "markdown",
   "id": "78d7606f",
   "metadata": {},
   "source": [
    "# Searching Techniques"
   ]
  },
  {
   "attachments": {},
   "cell_type": "markdown",
   "id": "184889db",
   "metadata": {},
   "source": [
    "## Linear Search"
   ]
  },
  {
   "cell_type": "code",
   "execution_count": 1,
   "id": "59be65b2",
   "metadata": {},
   "outputs": [
    {
     "name": "stdout",
     "output_type": "stream",
     "text": [
      "Not Found\n",
      "Not Found\n",
      "Value 3 matched in list\n",
      "Not Found\n",
      "Not Found\n"
     ]
    }
   ],
   "source": [
    "l = [1,2,3,4,5]\n",
    "t = 3\n",
    "for i in l:\n",
    "    if i == t:\n",
    "        print(f'Value {t} matched in list')\n",
    "    else:\n",
    "        print('Not Found')"
   ]
  },
  {
   "cell_type": "code",
   "execution_count": 12,
   "id": "2422f4f0",
   "metadata": {},
   "outputs": [
    {
     "name": "stdout",
     "output_type": "stream",
     "text": [
      "This is first statement\n",
      "\n",
      "This is second statement\n",
      "\n",
      "This is third statement\n",
      "\n",
      "This is fourth statement\n"
     ]
    }
   ],
   "source": [
    "import os\n",
    "path = os.getcwd()\n",
    "with open(\"test.txt\", \"r\") as fp:\n",
    "    for line in iter(fp.readline, ''):\n",
    "        print(line)"
   ]
  },
  {
   "cell_type": "code",
   "execution_count": 15,
   "id": "0815d31c",
   "metadata": {},
   "outputs": [
    {
     "name": "stdout",
     "output_type": "stream",
     "text": [
      "🙂\n"
     ]
    }
   ],
   "source": [
    "print(\"\\N{slightly smiling face}\")\n"
   ]
  },
  {
   "cell_type": "code",
   "execution_count": 16,
   "id": "409e54c8",
   "metadata": {},
   "outputs": [
    {
     "name": "stdout",
     "output_type": "stream",
     "text": [
      "[1, 2, 3, 4]\n"
     ]
    }
   ],
   "source": [
    "def test():\n",
    "\n",
    "    var1 = [1,2,3,4]\n",
    "\n",
    "    return var1\n",
    "\n",
    "var1 = test()\n",
    "print(var1)"
   ]
  },
  {
   "cell_type": "code",
   "execution_count": 1,
   "id": "db583c1a",
   "metadata": {},
   "outputs": [
    {
     "data": {
      "text/plain": [
       "'d:\\\\python_codes\\\\DataStructures_Algo'"
      ]
     },
     "execution_count": 1,
     "metadata": {},
     "output_type": "execute_result"
    }
   ],
   "source": [
    "import os\n",
    "os.getcwd()"
   ]
  },
  {
   "cell_type": "code",
   "execution_count": 7,
   "id": "3b52ff9a",
   "metadata": {},
   "outputs": [
    {
     "data": {
      "text/html": [
       "<div>\n",
       "<style scoped>\n",
       "    .dataframe tbody tr th:only-of-type {\n",
       "        vertical-align: middle;\n",
       "    }\n",
       "\n",
       "    .dataframe tbody tr th {\n",
       "        vertical-align: top;\n",
       "    }\n",
       "\n",
       "    .dataframe thead th {\n",
       "        text-align: right;\n",
       "    }\n",
       "</style>\n",
       "<table border=\"1\" class=\"dataframe\">\n",
       "  <thead>\n",
       "    <tr style=\"text-align: right;\">\n",
       "      <th></th>\n",
       "      <th>Name</th>\n",
       "      <th>Age</th>\n",
       "    </tr>\n",
       "  </thead>\n",
       "  <tbody>\n",
       "    <tr>\n",
       "      <th>0</th>\n",
       "      <td>Tejas</td>\n",
       "      <td>27</td>\n",
       "    </tr>\n",
       "    <tr>\n",
       "      <th>1</th>\n",
       "      <td>Sagar</td>\n",
       "      <td>24</td>\n",
       "    </tr>\n",
       "    <tr>\n",
       "      <th>2</th>\n",
       "      <td>Ravi</td>\n",
       "      <td>28</td>\n",
       "    </tr>\n",
       "  </tbody>\n",
       "</table>\n",
       "</div>"
      ],
      "text/plain": [
       "    Name  Age\n",
       "0  Tejas   27\n",
       "1  Sagar   24\n",
       "2   Ravi   28"
      ]
     },
     "execution_count": 7,
     "metadata": {},
     "output_type": "execute_result"
    }
   ],
   "source": [
    "import numpy as np\n",
    "import pandas as pd\n",
    "df = pd.DataFrame({'Name': ['Tejas', 'Sagar', 'Ravi'],\n",
    "                  'Age' : [27, 24, 28]})\n",
    "df"
   ]
  },
  {
   "cell_type": "code",
   "execution_count": 8,
   "id": "a95ef854",
   "metadata": {},
   "outputs": [
    {
     "data": {
      "text/plain": [
       "2"
      ]
     },
     "execution_count": 8,
     "metadata": {},
     "output_type": "execute_result"
    }
   ],
   "source": [
    "df.shape[1]"
   ]
  },
  {
   "cell_type": "code",
   "execution_count": 10,
   "id": "bc03d31d",
   "metadata": {},
   "outputs": [
    {
     "data": {
      "text/plain": [
       "8.0"
      ]
     },
     "execution_count": 10,
     "metadata": {},
     "output_type": "execute_result"
    }
   ],
   "source": [
    "sum([1, 4, 5, 10, 20])/5\n"
   ]
  },
  {
   "cell_type": "code",
   "execution_count": 13,
   "id": "3ebf841e",
   "metadata": {},
   "outputs": [
    {
     "data": {
      "text/plain": [
       "18.6624"
      ]
     },
     "execution_count": 13,
     "metadata": {},
     "output_type": "execute_result"
    }
   ],
   "source": [
    "4.32*4.32"
   ]
  },
  {
   "cell_type": "code",
   "execution_count": 15,
   "id": "f77c0cfa",
   "metadata": {},
   "outputs": [
    {
     "data": {
      "text/plain": [
       "-1.5"
      ]
     },
     "execution_count": 15,
     "metadata": {},
     "output_type": "execute_result"
    }
   ],
   "source": [
    "(120 - 150)/20"
   ]
  },
  {
   "cell_type": "code",
   "execution_count": 23,
   "id": "d971e2d5",
   "metadata": {},
   "outputs": [
    {
     "data": {
      "text/plain": [
       "170"
      ]
     },
     "execution_count": 23,
     "metadata": {},
     "output_type": "execute_result"
    }
   ],
   "source": [
    "(195 - 25)"
   ]
  },
  {
   "cell_type": "code",
   "execution_count": 24,
   "id": "adfea617",
   "metadata": {},
   "outputs": [
    {
     "name": "stdout",
     "output_type": "stream",
     "text": [
      "70\n",
      "40\n",
      "20\n"
     ]
    }
   ],
   "source": [
    "import statistics as st\n",
    "l = [20, 200, 20, 140, 40, 20, 50]\n",
    "print(st.mean(l))\n",
    "print(st.median(l))\n",
    "print(st.mode(l))\n"
   ]
  },
  {
   "cell_type": "code",
   "execution_count": null,
   "id": "9cd0e76e",
   "metadata": {},
   "outputs": [],
   "source": []
  }
 ],
 "metadata": {
  "kernelspec": {
   "display_name": "my_env",
   "language": "python",
   "name": "python3"
  },
  "language_info": {
   "codemirror_mode": {
    "name": "ipython",
    "version": 3
   },
   "file_extension": ".py",
   "mimetype": "text/x-python",
   "name": "python",
   "nbconvert_exporter": "python",
   "pygments_lexer": "ipython3",
   "version": "3.10.8"
  },
  "vscode": {
   "interpreter": {
    "hash": "34b13c970ce6637ace7f339853437e6148a840ce7a0e470d37c4f035177603fb"
   }
  }
 },
 "nbformat": 4,
 "nbformat_minor": 5
}
