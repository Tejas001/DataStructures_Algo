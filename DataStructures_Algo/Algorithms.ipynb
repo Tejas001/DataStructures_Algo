{
 "cells": [
  {
   "attachments": {},
   "cell_type": "markdown",
   "id": "78d7606f",
   "metadata": {},
   "source": [
    "# Searching Techniques"
   ]
  },
  {
   "attachments": {},
   "cell_type": "markdown",
   "id": "184889db",
   "metadata": {},
   "source": [
    "## Linear Search"
   ]
  },
  {
   "cell_type": "code",
   "execution_count": 1,
   "id": "59be65b2",
   "metadata": {},
   "outputs": [
    {
     "name": "stdout",
     "output_type": "stream",
     "text": [
      "Not Found\n",
      "Not Found\n",
      "Value 3 matched in list\n",
      "Not Found\n",
      "Not Found\n"
     ]
    }
   ],
   "source": [
    "l = [1,2,3,4,5]\n",
    "t = 3\n",
    "for i in l:\n",
    "    if i == t:\n",
    "        print(f'Value {t} matched in list')\n",
    "    else:\n",
    "        print('Not Found')"
   ]
  },
  {
   "cell_type": "code",
   "execution_count": 12,
   "id": "2422f4f0",
   "metadata": {},
   "outputs": [
    {
     "name": "stdout",
     "output_type": "stream",
     "text": [
      "This is first statement\n",
      "\n",
      "This is second statement\n",
      "\n",
      "This is third statement\n",
      "\n",
      "This is fourth statement\n"
     ]
    }
   ],
   "source": [
    "import os\n",
    "path = os.getcwd()\n",
    "with open(\"test.txt\", \"r\") as fp:\n",
    "    for line in iter(fp.readline, ''):\n",
    "        print(line)"
   ]
  },
  {
   "cell_type": "code",
   "execution_count": 15,
   "id": "0815d31c",
   "metadata": {},
   "outputs": [
    {
     "name": "stdout",
     "output_type": "stream",
     "text": [
      "🙂\n"
     ]
    }
   ],
   "source": [
    "print(\"\\N{slightly smiling face}\")\n"
   ]
  },
  {
   "cell_type": "code",
   "execution_count": 16,
   "id": "409e54c8",
   "metadata": {},
   "outputs": [
    {
     "name": "stdout",
     "output_type": "stream",
     "text": [
      "[1, 2, 3, 4]\n"
     ]
    }
   ],
   "source": [
    "def test():\n",
    "\n",
    "    var1 = [1,2,3,4]\n",
    "\n",
    "    return var1\n",
    "\n",
    "var1 = test()\n",
    "print(var1)"
   ]
  },
  {
   "cell_type": "code",
   "execution_count": null,
   "id": "db583c1a",
   "metadata": {},
   "outputs": [],
   "source": []
  }
 ],
 "metadata": {
  "kernelspec": {
   "display_name": "Python 3",
   "language": "python",
   "name": "python3"
  },
  "language_info": {
   "codemirror_mode": {
    "name": "ipython",
    "version": 3
   },
   "file_extension": ".py",
   "mimetype": "text/x-python",
   "name": "python",
   "nbconvert_exporter": "python",
   "pygments_lexer": "ipython3",
   "version": "3.10.8"
  },
  "vscode": {
   "interpreter": {
    "hash": "29396a9934f511bd8d809bf8e730fec6847467b1c2b4c6d2a4c9b0e1cfbccf5d"
   }
  }
 },
 "nbformat": 4,
 "nbformat_minor": 5
}
